{
 "cells": [
  {
   "cell_type": "markdown",
   "metadata": {},
   "source": [
    "# Initial data cleaning\n",
    "Ondrej Bohdal"
   ]
  },
  {
   "cell_type": "markdown",
   "metadata": {},
   "source": [
    "# Notes on what to do\n",
    "\n",
    "## Already done\n",
    "•\tStep 0: Rearrange cols so that they match in all files.\n",
    "\n",
    "•\tStep 1: Create link between file name and search variables (Industry / Function / Years of Experience) in new columns\n",
    "\n",
    "•\tStep 2: Combine all files together into one gigantic spreadsheet\n",
    "\n",
    "•\tStep 3: standardize location names\n",
    "\n",
    "◦\tuse find and replace for following terms: *waterloo* *kitchener* *guelph*, replace all with Waterloo\n",
    "\n",
    "▪\tissues: might affect firm names, other details, might have to do individual location columns - solved by dealing only with location columns\n",
    "\n",
    "▪\tcan’t do this for Cambridge, since that’ll take out the better Cambridges in the US and UK - there are very little of Cambridge instances (if any, but definitely less than 200), so it is not a problem.\n",
    "\n",
    "•\tStep 4: standardize Blackberry\n",
    "\n",
    "◦\tUse find and replace for following terms *Research in Motion* *RIM* *Blackberry*, replace with RIM\n",
    "\n",
    "•\tStep 5 - clean employment date columns\n",
    "\n",
    "◦\tdelineate column based on '('\n",
    "\n",
    "◦\tThere’s currently a problem in the scrapper so that about 1% of the time this is a very long cell with lots of extraneous info. Right now have to remove them manually else they’ll mess up the text to column function in excel\n",
    "\n",
    "◦\tcreate new column after employment date column, split cell based on ‘(‘, delate data in new column\n",
    "\n",
    "◦\tnext step: need to make this computer readable. Ideas: change all ‘Present’ to 2016, remove all text from columns, allowing \n",
    "us to get years they were employed.\n",
    "\n",
    "•\tStep 6: Create schema of education (e.g. BA / Bachelors / BSc / B.Tech) and look for way to standardise\n",
    "\n",
    "•\tGoal 1: Find way to systematically identify people who have worked in Waterloo AND worked for RIM\n",
    "\n",
    "•\tGoal 2: Identify point where they stopped working for RIM pre- and post- 2008 and extract their subsequent jobs and locations\n",
    "\n",
    "## To do\n",
    "Everything done currently, so just explore the data further."
   ]
  },
  {
   "cell_type": "markdown",
   "metadata": {},
   "source": [
    "For the beginning import all necesssary libraries."
   ]
  },
  {
   "cell_type": "code",
   "execution_count": 1,
   "metadata": {
    "collapsed": true
   },
   "outputs": [],
   "source": [
    "import pandas as pd\n",
    "import numpy as np\n",
    "import os"
   ]
  },
  {
   "cell_type": "markdown",
   "metadata": {},
   "source": [
    "# Processing of the files\n",
    "Manually convert the files to csv - the number of files is not too big, and finding a solution to do it automatically would take more time than just doing it manually.\n",
    "\n",
    "Open each of the files in Excel, and save it as csv with the original name. If there are any problems just continue by accepting it.\n",
    "\n",
    "Let's get a list of all the csv files."
   ]
  },
  {
   "cell_type": "code",
   "execution_count": 2,
   "metadata": {
    "collapsed": false
   },
   "outputs": [
    {
     "name": "stdout",
     "output_type": "stream",
     "text": [
      "['10.csv', '11.csv', '12.csv', '13.csv', '15.csv', '16a.csv', '16b.csv', '17.csv', '18.csv', '19.csv', '21.csv', '22.csv', '23.csv', '24.csv', '25.csv', '27a.csv', '27b.csv', '27c.csv', '28.csv', '28b.csv', '29.csv', '3.csv', '30.csv', '31.csv', '4.csv', '9.csv']\n"
     ]
    }
   ],
   "source": [
    "print(os.listdir('LinkedInDataCsv'))"
   ]
  },
  {
   "cell_type": "markdown",
   "metadata": {},
   "source": [
    "We save all the names of the files so that we can process them."
   ]
  },
  {
   "cell_type": "code",
   "execution_count": 3,
   "metadata": {
    "collapsed": true
   },
   "outputs": [],
   "source": [
    "files_to_process = ['10.csv', '11.csv', '12.csv', '13.csv', '15.csv', '16a.csv', '16b.csv', '17.csv', '18.csv', '19.csv', '21.csv', '22.csv', '23.csv', '24.csv', '25.csv', '27a.csv', '27b.csv', '27c.csv', '28.csv', '28b.csv', '29.csv', '3.csv', '30.csv', '31.csv', '4.csv', '9.csv']"
   ]
  },
  {
   "cell_type": "markdown",
   "metadata": {},
   "source": [
    "Save the dataframes into a list, and then we will merge them. During this we add a new column with the name of the original file name - we give there the name with .xls (so it is e.g. 10.xls)."
   ]
  },
  {
   "cell_type": "code",
   "execution_count": 4,
   "metadata": {
    "collapsed": false
   },
   "outputs": [],
   "source": [
    "data_list = []\n",
    "for file in files_to_process:\n",
    "    data_frame_local = pd.read_csv('LinkedInDataCsv/' + file, encoding = \"ISO-8859-1\")\n",
    "    data_frame_local['File name'] = file[:-4] + '.xls'\n",
    "    data_list.append(data_frame_local)"
   ]
  },
  {
   "cell_type": "markdown",
   "metadata": {},
   "source": [
    "Let's concatenate all of the data frames into one gigantic data frame."
   ]
  },
  {
   "cell_type": "code",
   "execution_count": 5,
   "metadata": {
    "collapsed": true
   },
   "outputs": [],
   "source": [
    "data = pd.concat(data_list, ignore_index=True)"
   ]
  },
  {
   "cell_type": "markdown",
   "metadata": {},
   "source": [
    "The order of column names is now sorted alphabetically, but we would like them to be sorted by their meaning so that it is similar to the files."
   ]
  },
  {
   "cell_type": "code",
   "execution_count": 6,
   "metadata": {
    "collapsed": true
   },
   "outputs": [],
   "source": [
    "important = ['Source Url', 'Name', 'Location', 'Industry', 'University', 'Field Of Study', 'Number Of Connections', 'Job Title', 'Employer', 'Employment Date', 'Location 2', 'Job Title 2', 'Employer 2', 'Employment Date 2', 'Location 3', 'Job Title 3', 'Employer 3', 'Employment Date 3', 'Location 4', 'Job Title 4', 'Employer 4', 'Employment Date 4', 'Location 5', 'Job Title 5', 'Employer 5', 'Employment Date 5', 'Location 6', 'Job Title 6', 'Employer 6', 'Employment Date 6', 'Location 7', 'Job Title 7', 'Employer 7', 'Employment Date 7', 'Location 8', 'University 2', 'Degree', 'Degree Time', 'Degree Time 2', 'Location 9', 'Location 10', 'Job Title 8', 'Employer 8', 'Job Title 9', 'Employer 9', 'Job Title 10', 'Employer 10', 'Job Title 11', 'Employer 11', 'University 3', 'Degree 2', 'University 4', 'Degree 3', 'University 5', 'Degree 4', 'Employment Date 8', 'Employment Date 9', 'Employment Date 10', 'Location 11', 'Job Title 12', 'Employer 12', 'Employment Date 11', 'Location 12', 'Job Title 13', 'Employer 13', 'Employment Date 12', 'Location 13', 'Job Title 14', 'Employer 14', 'Job Title 15', 'Employer 15', 'Employment Date 13', 'Location 14', 'Job Title 16', 'Employer 16', 'Employment Date 14', 'Location 15', 'Job Title 17', 'Employer 17', 'Employment Date 15', 'Location 16', 'Field Of Study 2', 'Degree Time 3', 'Employment Date 16', 'Location 17', 'Job Title 18', 'Employer 18', 'Job Title 19', 'Employer 19', 'Employment Date 17', 'Location 18', 'Location 19', 'Field Of Study 3', 'Degree Time 4', 'Field Of Study 4', 'Degree Time 5', 'Degree Time 6', 'Job Title 20', 'Employer 20', 'Job Title 21', 'Employer 21', 'Job Title 22', 'Employer 22', 'Job Title 23', 'Employer 23', 'Job Title 24', 'Employer 24', 'Job Title 25', 'Employer 25', 'Job Title 26', 'Employer 26', 'Job Title 27', 'Employer 27', 'Job Title 28', 'Employer 28', 'Field Of Study 5', 'Degree 5', 'Employment Date 18', 'Employment Date 19', 'Location 20', 'Employment Date 20', 'Location 21', 'Employment Date 21', 'Location 22', 'Employment Date 22', 'Location 23', 'Employment Date 23', 'Location 24', 'Employment Date 24', 'Location 25', 'Job Title 29', 'Employer 29', 'Job Title 30', 'Employer 30', 'Job Title 31', 'Employer 31', 'Job Title 32', 'Employer 32', 'Job Title 33', 'Employer 33', 'Job Title 34', 'Employer 34', 'Job Title 35', 'Employer 35', 'Job Title 36', 'Employer 36', 'Employment Date 25', 'Location 26', 'Job Title 37', 'Employer 37', 'Job Title 38', 'Employer 38', 'Job Title 39', 'Employer 39', 'University 6', 'Degree 6', 'Degree 7', 'Degree Time 7', 'Degree 8', 'Degree Time 8', 'Degree 9', 'Degree Time 9', 'Degree 10', 'Degree Time 10', 'Degree 11', 'Degree Time 11', 'Field Of Study 6', 'Employment Date 26', 'Location 27', 'Employment Date 27', 'Location 28', 'Employment Date 28', 'Location 29', 'Employment Date 29', 'Location 30', 'Employment Date 30', 'Location 31', 'Employment Date 31', 'Location 32', 'Employment Date 32', 'Location 33', 'Employment Date 33', 'Location 34', 'Employment Date 34', 'Location 35', 'Employment Date 35', 'Location 36', 'Employment Date 36', 'Location 37', 'Employment Date 37', 'Location 38', 'Job Title 40', 'Employer 40', 'Employment Date 38', 'Location 39', 'Job Title 41', 'Employer 41', 'Employment Date 39', 'Location 40', 'Job Title 42', 'Employer 42', 'Employment Date 40', 'Location 41', 'Job Title 43', 'Employer 43', 'Employment Date 41', 'Location 42', 'University 7', 'Field Of Study 7', 'University 8', 'Field Of Study 8', 'University 9', 'Field Of Study 9', 'University 10']\n",
    "order = important + [c for c in data.columns if c not in important]\n",
    "data = data[order]"
   ]
  },
  {
   "cell_type": "code",
   "execution_count": 7,
   "metadata": {
    "collapsed": false
   },
   "outputs": [
    {
     "name": "stdout",
     "output_type": "stream",
     "text": [
      "<class 'pandas.core.frame.DataFrame'>\n",
      "RangeIndex: 5291 entries, 0 to 5290\n",
      "Columns: 215 entries, Source Url to File name\n",
      "dtypes: object(215)\n",
      "memory usage: 8.7+ MB\n"
     ]
    }
   ],
   "source": [
    "data.info()"
   ]
  },
  {
   "cell_type": "code",
   "execution_count": 8,
   "metadata": {
    "collapsed": false,
    "scrolled": false
   },
   "outputs": [
    {
     "data": {
      "text/html": [
       "<div>\n",
       "<table border=\"1\" class=\"dataframe\">\n",
       "  <thead>\n",
       "    <tr style=\"text-align: right;\">\n",
       "      <th></th>\n",
       "      <th>Source Url</th>\n",
       "      <th>Name</th>\n",
       "      <th>Location</th>\n",
       "      <th>Industry</th>\n",
       "      <th>University</th>\n",
       "      <th>Field Of Study</th>\n",
       "      <th>Number Of Connections</th>\n",
       "      <th>Job Title</th>\n",
       "      <th>Employer</th>\n",
       "      <th>Employment Date</th>\n",
       "      <th>...</th>\n",
       "      <th>Employment Date 41</th>\n",
       "      <th>Location 42</th>\n",
       "      <th>University 7</th>\n",
       "      <th>Field Of Study 7</th>\n",
       "      <th>University 8</th>\n",
       "      <th>Field Of Study 8</th>\n",
       "      <th>University 9</th>\n",
       "      <th>Field Of Study 9</th>\n",
       "      <th>University 10</th>\n",
       "      <th>File name</th>\n",
       "    </tr>\n",
       "  </thead>\n",
       "  <tbody>\n",
       "    <tr>\n",
       "      <th>count</th>\n",
       "      <td>5291</td>\n",
       "      <td>5291</td>\n",
       "      <td>5291</td>\n",
       "      <td>5291</td>\n",
       "      <td>4666</td>\n",
       "      <td>4311</td>\n",
       "      <td>5290</td>\n",
       "      <td>4981</td>\n",
       "      <td>4981</td>\n",
       "      <td>4477</td>\n",
       "      <td>...</td>\n",
       "      <td>1</td>\n",
       "      <td>1</td>\n",
       "      <td>49</td>\n",
       "      <td>3</td>\n",
       "      <td>8</td>\n",
       "      <td>2</td>\n",
       "      <td>15</td>\n",
       "      <td>2</td>\n",
       "      <td>3</td>\n",
       "      <td>5291</td>\n",
       "    </tr>\n",
       "    <tr>\n",
       "      <th>unique</th>\n",
       "      <td>5291</td>\n",
       "      <td>4790</td>\n",
       "      <td>494</td>\n",
       "      <td>10</td>\n",
       "      <td>883</td>\n",
       "      <td>1057</td>\n",
       "      <td>510</td>\n",
       "      <td>2554</td>\n",
       "      <td>2136</td>\n",
       "      <td>837</td>\n",
       "      <td>...</td>\n",
       "      <td>1</td>\n",
       "      <td>1</td>\n",
       "      <td>42</td>\n",
       "      <td>3</td>\n",
       "      <td>7</td>\n",
       "      <td>2</td>\n",
       "      <td>15</td>\n",
       "      <td>2</td>\n",
       "      <td>3</td>\n",
       "      <td>26</td>\n",
       "    </tr>\n",
       "    <tr>\n",
       "      <th>top</th>\n",
       "      <td>https://www.linkedin.com/profile/view?id=ADEAA...</td>\n",
       "      <td>LinkedIn Member</td>\n",
       "      <td>Toronto, Canada Area</td>\n",
       "      <td>Computer Software</td>\n",
       "      <td>University of Waterloo</td>\n",
       "      <td>Computer Science</td>\n",
       "      <td>500+</td>\n",
       "      <td>Software Engineer</td>\n",
       "      <td>BlackBerry</td>\n",
       "      <td>September 2014  Present (1 year 5 months)</td>\n",
       "      <td>...</td>\n",
       "      <td>July 1990  December 1994 (4 years 6 months)</td>\n",
       "      <td>Osaka, Japan</td>\n",
       "      <td>University of Toronto</td>\n",
       "      <td>Double Honours</td>\n",
       "      <td>McGill University</td>\n",
       "      <td>Computer Programmer</td>\n",
       "      <td>University of Illinois at Urbana-Champaign</td>\n",
       "      <td>Accounts</td>\n",
       "      <td>University of Waterloo</td>\n",
       "      <td>22.xls</td>\n",
       "    </tr>\n",
       "    <tr>\n",
       "      <th>freq</th>\n",
       "      <td>1</td>\n",
       "      <td>307</td>\n",
       "      <td>499</td>\n",
       "      <td>2440</td>\n",
       "      <td>894</td>\n",
       "      <td>1025</td>\n",
       "      <td>1037</td>\n",
       "      <td>447</td>\n",
       "      <td>422</td>\n",
       "      <td>53</td>\n",
       "      <td>...</td>\n",
       "      <td>1</td>\n",
       "      <td>1</td>\n",
       "      <td>4</td>\n",
       "      <td>1</td>\n",
       "      <td>2</td>\n",
       "      <td>1</td>\n",
       "      <td>1</td>\n",
       "      <td>1</td>\n",
       "      <td>1</td>\n",
       "      <td>700</td>\n",
       "    </tr>\n",
       "  </tbody>\n",
       "</table>\n",
       "<p>4 rows × 215 columns</p>\n",
       "</div>"
      ],
      "text/plain": [
       "                                               Source Url             Name  \\\n",
       "count                                                5291             5291   \n",
       "unique                                               5291             4790   \n",
       "top     https://www.linkedin.com/profile/view?id=ADEAA...  LinkedIn Member   \n",
       "freq                                                    1              307   \n",
       "\n",
       "                    Location           Industry              University  \\\n",
       "count                   5291               5291                    4666   \n",
       "unique                   494                 10                     883   \n",
       "top     Toronto, Canada Area  Computer Software  University of Waterloo   \n",
       "freq                     499               2440                     894   \n",
       "\n",
       "          Field Of Study Number Of Connections          Job Title    Employer  \\\n",
       "count               4311                  5290               4981        4981   \n",
       "unique              1057                   510               2554        2136   \n",
       "top     Computer Science                  500+  Software Engineer  BlackBerry   \n",
       "freq                1025                  1037                447         422   \n",
       "\n",
       "                                   Employment Date    ...     \\\n",
       "count                                         4477    ...      \n",
       "unique                                         837    ...      \n",
       "top     September 2014  Present (1 year 5 months)    ...      \n",
       "freq                                            53    ...      \n",
       "\n",
       "                                  Employment Date 41   Location 42  \\\n",
       "count                                              1             1   \n",
       "unique                                             1             1   \n",
       "top     July 1990  December 1994 (4 years 6 months)  Osaka, Japan   \n",
       "freq                                               1             1   \n",
       "\n",
       "                 University 7 Field Of Study 7       University 8  \\\n",
       "count                      49                3                  8   \n",
       "unique                     42                3                  7   \n",
       "top     University of Toronto   Double Honours  McGill University   \n",
       "freq                        4                1                  2   \n",
       "\n",
       "           Field Of Study 8                                University 9  \\\n",
       "count                     2                                          15   \n",
       "unique                    2                                          15   \n",
       "top     Computer Programmer  University of Illinois at Urbana-Champaign   \n",
       "freq                      1                                           1   \n",
       "\n",
       "       Field Of Study 9           University 10 File name  \n",
       "count                 2                       3      5291  \n",
       "unique                2                       3        26  \n",
       "top            Accounts  University of Waterloo    22.xls  \n",
       "freq                  1                       1       700  \n",
       "\n",
       "[4 rows x 215 columns]"
      ]
     },
     "execution_count": 8,
     "metadata": {},
     "output_type": "execute_result"
    }
   ],
   "source": [
    "data.describe()"
   ]
  },
  {
   "cell_type": "code",
   "execution_count": 9,
   "metadata": {
    "collapsed": false
   },
   "outputs": [
    {
     "name": "stdout",
     "output_type": "stream",
     "text": [
      "These are the column names:  ['Source Url', 'Name', 'Location', 'Industry', 'University', 'Field Of Study', 'Number Of Connections', 'Job Title', 'Employer', 'Employment Date', 'Location 2', 'Job Title 2', 'Employer 2', 'Employment Date 2', 'Location 3', 'Job Title 3', 'Employer 3', 'Employment Date 3', 'Location 4', 'Job Title 4', 'Employer 4', 'Employment Date 4', 'Location 5', 'Job Title 5', 'Employer 5', 'Employment Date 5', 'Location 6', 'Job Title 6', 'Employer 6', 'Employment Date 6', 'Location 7', 'Job Title 7', 'Employer 7', 'Employment Date 7', 'Location 8', 'University 2', 'Degree', 'Degree Time', 'Degree Time 2', 'Location 9', 'Location 10', 'Job Title 8', 'Employer 8', 'Job Title 9', 'Employer 9', 'Job Title 10', 'Employer 10', 'Job Title 11', 'Employer 11', 'University 3', 'Degree 2', 'University 4', 'Degree 3', 'University 5', 'Degree 4', 'Employment Date 8', 'Employment Date 9', 'Employment Date 10', 'Location 11', 'Job Title 12', 'Employer 12', 'Employment Date 11', 'Location 12', 'Job Title 13', 'Employer 13', 'Employment Date 12', 'Location 13', 'Job Title 14', 'Employer 14', 'Job Title 15', 'Employer 15', 'Employment Date 13', 'Location 14', 'Job Title 16', 'Employer 16', 'Employment Date 14', 'Location 15', 'Job Title 17', 'Employer 17', 'Employment Date 15', 'Location 16', 'Field Of Study 2', 'Degree Time 3', 'Employment Date 16', 'Location 17', 'Job Title 18', 'Employer 18', 'Job Title 19', 'Employer 19', 'Employment Date 17', 'Location 18', 'Location 19', 'Field Of Study 3', 'Degree Time 4', 'Field Of Study 4', 'Degree Time 5', 'Degree Time 6', 'Job Title 20', 'Employer 20', 'Job Title 21', 'Employer 21', 'Job Title 22', 'Employer 22', 'Job Title 23', 'Employer 23', 'Job Title 24', 'Employer 24', 'Job Title 25', 'Employer 25', 'Job Title 26', 'Employer 26', 'Job Title 27', 'Employer 27', 'Job Title 28', 'Employer 28', 'Field Of Study 5', 'Degree 5', 'Employment Date 18', 'Employment Date 19', 'Location 20', 'Employment Date 20', 'Location 21', 'Employment Date 21', 'Location 22', 'Employment Date 22', 'Location 23', 'Employment Date 23', 'Location 24', 'Employment Date 24', 'Location 25', 'Job Title 29', 'Employer 29', 'Job Title 30', 'Employer 30', 'Job Title 31', 'Employer 31', 'Job Title 32', 'Employer 32', 'Job Title 33', 'Employer 33', 'Job Title 34', 'Employer 34', 'Job Title 35', 'Employer 35', 'Job Title 36', 'Employer 36', 'Employment Date 25', 'Location 26', 'Job Title 37', 'Employer 37', 'Job Title 38', 'Employer 38', 'Job Title 39', 'Employer 39', 'University 6', 'Degree 6', 'Degree 7', 'Degree Time 7', 'Degree 8', 'Degree Time 8', 'Degree 9', 'Degree Time 9', 'Degree 10', 'Degree Time 10', 'Degree 11', 'Degree Time 11', 'Field Of Study 6', 'Employment Date 26', 'Location 27', 'Employment Date 27', 'Location 28', 'Employment Date 28', 'Location 29', 'Employment Date 29', 'Location 30', 'Employment Date 30', 'Location 31', 'Employment Date 31', 'Location 32', 'Employment Date 32', 'Location 33', 'Employment Date 33', 'Location 34', 'Employment Date 34', 'Location 35', 'Employment Date 35', 'Location 36', 'Employment Date 36', 'Location 37', 'Employment Date 37', 'Location 38', 'Job Title 40', 'Employer 40', 'Employment Date 38', 'Location 39', 'Job Title 41', 'Employer 41', 'Employment Date 39', 'Location 40', 'Job Title 42', 'Employer 42', 'Employment Date 40', 'Location 41', 'Job Title 43', 'Employer 43', 'Employment Date 41', 'Location 42', 'University 7', 'Field Of Study 7', 'University 8', 'Field Of Study 8', 'University 9', 'Field Of Study 9', 'University 10', 'File name']\n"
     ]
    }
   ],
   "source": [
    "print('These are the column names: ', list(data.columns))"
   ]
  },
  {
   "cell_type": "markdown",
   "metadata": {},
   "source": [
    "## Change the location names *waterloo*, *kitchener*, *guelph* to Waterloo.\n",
    "This is not so trivial as the full names vary quite a lot, e.g. we may have Kitchener, Canada Area or also Kitchener, Ontario, Canada (and various alternatives). We will check if there is a substring of a location name including 'kitchener', 'guelp', 'waterloo' (after transforming to lower case).\n",
    "\n",
    "We process only the location names so there is no risk of changing the names of any companies or anything unrelated.\n",
    "\n",
    "Before we do it, let's do some exploration:"
   ]
  },
  {
   "cell_type": "code",
   "execution_count": 10,
   "metadata": {
    "collapsed": false,
    "scrolled": false
   },
   "outputs": [],
   "source": [
    "loc_names = ['Location'] + ['Location ' + str(x + 2) for x in range(41)]\n",
    "nomatch = []\n",
    "matches = []\n",
    "for loc_name in loc_names:\n",
    "    for i in range(len(data[loc_name])):\n",
    "        if 'kitchener' in str(data[loc_name][i]).lower():\n",
    "            matches.append(str(data[loc_name][i]))\n",
    "        elif 'guelph' in str(data[loc_name][i]).lower():\n",
    "            matches.append(str(data[loc_name][i]))\n",
    "        elif 'waterloo' in str(data[loc_name][i]).lower():\n",
    "            matches.append(str(data[loc_name][i]))\n",
    "        else:\n",
    "            nomatch.append(str(data[loc_name][i]))"
   ]
  },
  {
   "cell_type": "markdown",
   "metadata": {},
   "source": [
    "Other common places include the following:\n",
    "nan                                    197013,\n",
    "Toronto, Canada Area                     1887,\n",
    "Ottawa, Canada Area                      1757,\n",
    "San Francisco Bay Area                    750,\n",
    "Greater Seattle Area                      431,\n",
    "Canada                                    380,\n",
    "Dallas/Fort Worth Area                    304,\n",
    "Vancouver, Canada Area                    293,\n",
    "Ontario, Canada                           231,\n",
    "Halifax, Canada Area                      206.\n",
    "\n",
    "Note these are all places mentioned more than 200 times in any of the location columns. Waterloo (together with Guelph and Kitchener) is mentioned 4931 times, with Waterloo, Ontario exactly 1359 times."
   ]
  },
  {
   "cell_type": "code",
   "execution_count": 11,
   "metadata": {
    "collapsed": false
   },
   "outputs": [
    {
     "name": "stdout",
     "output_type": "stream",
     "text": [
      "Only Waterloo and related:\n",
      "Waterloo, Ontario            1359\n",
      "Kitchener, Canada Area        930\n",
      "Waterloo, Ontario, Canada     785\n",
      "Waterloo, ON                  572\n",
      "Waterloo                      220\n",
      "dtype: int64\n",
      "\n",
      "All other locations:\n",
      "nan                       197013\n",
      "Toronto, Canada Area        1887\n",
      "Ottawa, Canada Area         1757\n",
      "San Francisco Bay Area       750\n",
      "Greater Seattle Area         431\n",
      "Canada                       380\n",
      "Dallas/Fort Worth Area       304\n",
      "Vancouver, Canada Area       293\n",
      "Ontario, Canada              231\n",
      "Halifax, Canada Area         206\n",
      "dtype: int64\n"
     ]
    }
   ],
   "source": [
    "print('Only Waterloo and related:')\n",
    "print(pd.Series(matches).value_counts()[:5])\n",
    "print('\\nAll other locations:')\n",
    "print(pd.Series(nomatch).value_counts()[:10])"
   ]
  },
  {
   "cell_type": "markdown",
   "metadata": {},
   "source": [
    "Let's transform the data now. The exact final name in all matches will be Waterloo, Ontario, Canada."
   ]
  },
  {
   "cell_type": "code",
   "execution_count": 12,
   "metadata": {
    "collapsed": true
   },
   "outputs": [],
   "source": [
    "loc_names = ['Location'] + ['Location ' + str(x + 2) for x in range(41)]\n",
    "for loc_name in loc_names:\n",
    "    for i in range(len(data[loc_name])):\n",
    "        if 'kitchener' in str(data[loc_name][i]).lower():\n",
    "            data[loc_name][i] = 'Waterloo, Ontario, Canada'\n",
    "        elif 'guelph' in str(data[loc_name][i]).lower():\n",
    "            data[loc_name][i] = 'Waterloo, Ontario, Canada'\n",
    "        elif 'waterloo' in str(data[loc_name][i]).lower():\n",
    "            data[loc_name][i] = 'Waterloo, Ontario, Canada'"
   ]
  },
  {
   "cell_type": "code",
   "execution_count": 13,
   "metadata": {
    "collapsed": false
   },
   "outputs": [
    {
     "data": {
      "text/html": [
       "<div>\n",
       "<table border=\"1\" class=\"dataframe\">\n",
       "  <thead>\n",
       "    <tr style=\"text-align: right;\">\n",
       "      <th></th>\n",
       "      <th>Source Url</th>\n",
       "      <th>Name</th>\n",
       "      <th>Location</th>\n",
       "      <th>Industry</th>\n",
       "      <th>University</th>\n",
       "      <th>Field Of Study</th>\n",
       "      <th>Number Of Connections</th>\n",
       "      <th>Job Title</th>\n",
       "      <th>Employer</th>\n",
       "      <th>Employment Date</th>\n",
       "      <th>...</th>\n",
       "      <th>Employment Date 41</th>\n",
       "      <th>Location 42</th>\n",
       "      <th>University 7</th>\n",
       "      <th>Field Of Study 7</th>\n",
       "      <th>University 8</th>\n",
       "      <th>Field Of Study 8</th>\n",
       "      <th>University 9</th>\n",
       "      <th>Field Of Study 9</th>\n",
       "      <th>University 10</th>\n",
       "      <th>File name</th>\n",
       "    </tr>\n",
       "  </thead>\n",
       "  <tbody>\n",
       "    <tr>\n",
       "      <th>0</th>\n",
       "      <td>https://www.linkedin.com/profile/view?id=ADEAA...</td>\n",
       "      <td>Nick Begley</td>\n",
       "      <td>Waterloo, Ontario, Canada</td>\n",
       "      <td>Computer Software</td>\n",
       "      <td>University of Waterloo</td>\n",
       "      <td>Computer Engineering</td>\n",
       "      <td>122</td>\n",
       "      <td>Software Engineer</td>\n",
       "      <td>Google</td>\n",
       "      <td>March 2014  Present (1 year 10 months)</td>\n",
       "      <td>...</td>\n",
       "      <td>NaN</td>\n",
       "      <td>NaN</td>\n",
       "      <td>NaN</td>\n",
       "      <td>NaN</td>\n",
       "      <td>NaN</td>\n",
       "      <td>NaN</td>\n",
       "      <td>NaN</td>\n",
       "      <td>NaN</td>\n",
       "      <td>NaN</td>\n",
       "      <td>10.xls</td>\n",
       "    </tr>\n",
       "    <tr>\n",
       "      <th>1</th>\n",
       "      <td>https://www.linkedin.com/profile/view?id=ADEAA...</td>\n",
       "      <td>Aaron Patel</td>\n",
       "      <td>San Francisco Bay Area</td>\n",
       "      <td>Computer Software</td>\n",
       "      <td>University of Waterloo</td>\n",
       "      <td>Computer Software Engineering</td>\n",
       "      <td>203</td>\n",
       "      <td>Software Engineering Coop</td>\n",
       "      <td>WhatsApp Inc.</td>\n",
       "      <td>September 2015  Present (4 months)</td>\n",
       "      <td>...</td>\n",
       "      <td>NaN</td>\n",
       "      <td>NaN</td>\n",
       "      <td>NaN</td>\n",
       "      <td>NaN</td>\n",
       "      <td>NaN</td>\n",
       "      <td>NaN</td>\n",
       "      <td>NaN</td>\n",
       "      <td>NaN</td>\n",
       "      <td>NaN</td>\n",
       "      <td>10.xls</td>\n",
       "    </tr>\n",
       "    <tr>\n",
       "      <th>2</th>\n",
       "      <td>https://www.linkedin.com/profile/view?id=ADEAA...</td>\n",
       "      <td>Ashun Shah</td>\n",
       "      <td>Canada</td>\n",
       "      <td>Computer Software</td>\n",
       "      <td>Lakehead University</td>\n",
       "      <td>Computer Science</td>\n",
       "      <td>373</td>\n",
       "      <td>QA Engineer</td>\n",
       "      <td>The Working Group</td>\n",
       "      <td>December 2015  Present (1 month)</td>\n",
       "      <td>...</td>\n",
       "      <td>NaN</td>\n",
       "      <td>NaN</td>\n",
       "      <td>NaN</td>\n",
       "      <td>NaN</td>\n",
       "      <td>NaN</td>\n",
       "      <td>NaN</td>\n",
       "      <td>NaN</td>\n",
       "      <td>NaN</td>\n",
       "      <td>NaN</td>\n",
       "      <td>10.xls</td>\n",
       "    </tr>\n",
       "    <tr>\n",
       "      <th>3</th>\n",
       "      <td>https://www.linkedin.com/profile/view?id=ADEAA...</td>\n",
       "      <td>Nancy Li</td>\n",
       "      <td>Windsor, Ontario, Canada</td>\n",
       "      <td>Computer Software</td>\n",
       "      <td>University of Waterloo</td>\n",
       "      <td>Computer Science</td>\n",
       "      <td>89</td>\n",
       "      <td>Software Development Engineer Intern</td>\n",
       "      <td>Audible, Inc.</td>\n",
       "      <td>August 2013  December 2013 (5 months)</td>\n",
       "      <td>...</td>\n",
       "      <td>NaN</td>\n",
       "      <td>NaN</td>\n",
       "      <td>NaN</td>\n",
       "      <td>NaN</td>\n",
       "      <td>NaN</td>\n",
       "      <td>NaN</td>\n",
       "      <td>NaN</td>\n",
       "      <td>NaN</td>\n",
       "      <td>NaN</td>\n",
       "      <td>10.xls</td>\n",
       "    </tr>\n",
       "    <tr>\n",
       "      <th>4</th>\n",
       "      <td>https://www.linkedin.com/profile/view?id=ADEAA...</td>\n",
       "      <td>Wei Meng</td>\n",
       "      <td>Toronto, Ontario, Canada</td>\n",
       "      <td>Computer Software</td>\n",
       "      <td>University of Waterloo</td>\n",
       "      <td>Systems Design Engineering</td>\n",
       "      <td>202</td>\n",
       "      <td>Junior Software Developer</td>\n",
       "      <td>QuickPlay Media</td>\n",
       "      <td>July 2014  Present (1 year 6 months)</td>\n",
       "      <td>...</td>\n",
       "      <td>NaN</td>\n",
       "      <td>NaN</td>\n",
       "      <td>NaN</td>\n",
       "      <td>NaN</td>\n",
       "      <td>NaN</td>\n",
       "      <td>NaN</td>\n",
       "      <td>NaN</td>\n",
       "      <td>NaN</td>\n",
       "      <td>NaN</td>\n",
       "      <td>10.xls</td>\n",
       "    </tr>\n",
       "  </tbody>\n",
       "</table>\n",
       "<p>5 rows × 215 columns</p>\n",
       "</div>"
      ],
      "text/plain": [
       "                                          Source Url         Name  \\\n",
       "0  https://www.linkedin.com/profile/view?id=ADEAA...  Nick Begley   \n",
       "1  https://www.linkedin.com/profile/view?id=ADEAA...  Aaron Patel   \n",
       "2  https://www.linkedin.com/profile/view?id=ADEAA...   Ashun Shah   \n",
       "3  https://www.linkedin.com/profile/view?id=ADEAA...     Nancy Li   \n",
       "4  https://www.linkedin.com/profile/view?id=ADEAA...     Wei Meng   \n",
       "\n",
       "                    Location           Industry              University  \\\n",
       "0  Waterloo, Ontario, Canada  Computer Software  University of Waterloo   \n",
       "1     San Francisco Bay Area  Computer Software  University of Waterloo   \n",
       "2                     Canada  Computer Software     Lakehead University   \n",
       "3   Windsor, Ontario, Canada  Computer Software  University of Waterloo   \n",
       "4   Toronto, Ontario, Canada  Computer Software  University of Waterloo   \n",
       "\n",
       "                  Field Of Study Number Of Connections  \\\n",
       "0           Computer Engineering                   122   \n",
       "1  Computer Software Engineering                   203   \n",
       "2               Computer Science                   373   \n",
       "3               Computer Science                    89   \n",
       "4     Systems Design Engineering                   202   \n",
       "\n",
       "                              Job Title           Employer  \\\n",
       "0                     Software Engineer             Google   \n",
       "1             Software Engineering Coop      WhatsApp Inc.   \n",
       "2                           QA Engineer  The Working Group   \n",
       "3  Software Development Engineer Intern      Audible, Inc.   \n",
       "4             Junior Software Developer    QuickPlay Media   \n",
       "\n",
       "                           Employment Date    ...    Employment Date 41  \\\n",
       "0  March 2014  Present (1 year 10 months)    ...                   NaN   \n",
       "1      September 2015  Present (4 months)    ...                   NaN   \n",
       "2        December 2015  Present (1 month)    ...                   NaN   \n",
       "3   August 2013  December 2013 (5 months)    ...                   NaN   \n",
       "4    July 2014  Present (1 year 6 months)    ...                   NaN   \n",
       "\n",
       "  Location 42 University 7 Field Of Study 7 University 8 Field Of Study 8  \\\n",
       "0         NaN          NaN              NaN          NaN              NaN   \n",
       "1         NaN          NaN              NaN          NaN              NaN   \n",
       "2         NaN          NaN              NaN          NaN              NaN   \n",
       "3         NaN          NaN              NaN          NaN              NaN   \n",
       "4         NaN          NaN              NaN          NaN              NaN   \n",
       "\n",
       "  University 9 Field Of Study 9 University 10 File name  \n",
       "0          NaN              NaN           NaN    10.xls  \n",
       "1          NaN              NaN           NaN    10.xls  \n",
       "2          NaN              NaN           NaN    10.xls  \n",
       "3          NaN              NaN           NaN    10.xls  \n",
       "4          NaN              NaN           NaN    10.xls  \n",
       "\n",
       "[5 rows x 215 columns]"
      ]
     },
     "execution_count": 13,
     "metadata": {},
     "output_type": "execute_result"
    }
   ],
   "source": [
    "data.head(5)"
   ]
  },
  {
   "cell_type": "markdown",
   "metadata": {},
   "source": [
    "Write the gigantic data frame to a csv file so that it can be used in the future easily. Name: linkedin_all.csv (done after all the processing)."
   ]
  },
  {
   "cell_type": "markdown",
   "metadata": {},
   "source": [
    "## Standardize Blackberry\n",
    "Replace *Research in Motion*, *RIM*, *Blackberry* with RIM. We need to select first the suitable columns to do the replace on.\n",
    "\n",
    "We will explore the data first to see how often we have relevant cases."
   ]
  },
  {
   "cell_type": "code",
   "execution_count": 14,
   "metadata": {
    "collapsed": false
   },
   "outputs": [],
   "source": [
    "employer_cols = ['Employer'] + ['Employer ' + str(x + 2) for x in range(42)]\n",
    "nomatchEmp = []\n",
    "matchesEmp = []\n",
    "for empl in employer_cols:\n",
    "    for i in range(len(data[empl])):\n",
    "        if str(data[empl][i]).lower() == 'blackberry':\n",
    "            matchesEmp.append(str(data[empl][i]))\n",
    "        elif str(data[empl][i]).lower() == 'rim':\n",
    "            matchesEmp.append(str(data[empl][i]))\n",
    "        elif str(data[empl][i]).lower() == 'research in motion':\n",
    "            matchesEmp.append(str(data[empl][i]))\n",
    "        else:\n",
    "            nomatchEmp.append(str(data[empl][i]))"
   ]
  },
  {
   "cell_type": "code",
   "execution_count": 15,
   "metadata": {
    "collapsed": false
   },
   "outputs": [
    {
     "name": "stdout",
     "output_type": "stream",
     "text": [
      "Only Blackberry and related:\n",
      "BlackBerry            3908\n",
      "Research In Motion    3440\n",
      "RIM                    317\n",
      "Research in Motion      88\n",
      "Blackberry              66\n",
      "Research in motion       2\n",
      "research in motion       2\n",
      "RESEARCH IN MOTION       1\n",
      "blackberry               1\n",
      "rim                      1\n",
      "dtype: int64\n",
      "\n",
      "All other employers:\n",
      "nan                       195613\n",
      "Microsoft                    459\n",
      "University of Waterloo       257\n",
      "Nortel Networks              255\n",
      "Motorola                     190\n",
      "Apple                        187\n",
      "Amazon                       179\n",
      "IBM                          171\n",
      "Google                       170\n",
      "Qualcomm                     158\n",
      "Ericsson                     147\n",
      "Nortel                       142\n",
      "Nokia                        128\n",
      "Alcatel-Lucent               103\n",
      "IBM Canada Ltd.               92\n",
      "QNX Software Systems          70\n",
      "IBM Canada                    68\n",
      "NVIDIA                        66\n",
      "TAT AB                        66\n",
      "Facebook                      65\n",
      "dtype: int64\n"
     ]
    }
   ],
   "source": [
    "print('Only Blackberry and related:')\n",
    "print(pd.Series(matchesEmp).value_counts()[:10])\n",
    "print('\\nAll other employers:')\n",
    "print(pd.Series(nomatchEmp).value_counts()[:20])"
   ]
  },
  {
   "cell_type": "markdown",
   "metadata": {},
   "source": [
    "We will replace the names Research in Motion, RIM, Blackberry with RIM now."
   ]
  },
  {
   "cell_type": "code",
   "execution_count": 16,
   "metadata": {
    "collapsed": true
   },
   "outputs": [],
   "source": [
    "employer_cols = ['Employer'] + ['Employer ' + str(x + 2) for x in range(42)]\n",
    "for empl in employer_cols:\n",
    "    for i in range(len(data[empl])):\n",
    "        if str(data[empl][i]).lower() == 'blackberry':\n",
    "            data[empl][i] = 'RIM'\n",
    "        elif str(data[empl][i]).lower() == 'rim':\n",
    "            data[empl][i] = 'RIM'\n",
    "        elif str(data[empl][i]).lower() == 'research in motion':\n",
    "            data[empl][i] = 'RIM'"
   ]
  },
  {
   "cell_type": "markdown",
   "metadata": {},
   "source": [
    "## Clean the dates\n",
    "• Step 5 - clean employment date columns\n",
    "◦ delineate column based on '('\n",
    "◦ There’s currently a problem in the scrapper so that about 1% of the time this is a very long cell with lots of extraneous info. Right now have to remove them manually else they’ll mess up the text to column function in excel\n",
    "◦ create new column after employment date column, split cell based on ‘(‘, delate data in new column\n",
    "◦ next step: need to make this computer readable. Ideas: change all ‘Present’ to 2016, remove all text from columns, allowing us to get years they were employed."
   ]
  },
  {
   "cell_type": "markdown",
   "metadata": {},
   "source": [
    "Solve the problem with a lot of extraneous info. The solution is very simple - the date is everything before symbol ';', so check if there is ';' in the cell, and if it is there, keep only the parts before ';'.\n",
    "\n",
    "We need to know first all the parts which have dates."
   ]
  },
  {
   "cell_type": "code",
   "execution_count": 17,
   "metadata": {
    "collapsed": true
   },
   "outputs": [],
   "source": [
    "date_cols = ['Employment Date'] + ['Employment Date ' + str(x + 2) for x in range(40)] + ['Degree Time'] + ['Degree Time ' + str(x + 2) for x in range(10)]"
   ]
  },
  {
   "cell_type": "code",
   "execution_count": 18,
   "metadata": {
    "collapsed": false
   },
   "outputs": [],
   "source": [
    "for date_col in date_cols:\n",
    "    for i in range(len(data[date_col])):\n",
    "        pos = str(data[date_col][i]).find(';')\n",
    "        if pos != -1:\n",
    "            data[date_col][i] = data[date_col][i][:pos]"
   ]
  },
  {
   "cell_type": "markdown",
   "metadata": {},
   "source": [
    "Check for any remaining problems which will need to be fixed just manually:"
   ]
  },
  {
   "cell_type": "code",
   "execution_count": 19,
   "metadata": {
    "collapsed": false
   },
   "outputs": [
    {
     "name": "stdout",
     "output_type": "stream",
     "text": [
      "September 2004  August 2006 (2 years) (Open) 1 honor or award \n",
      "Index:  1145  Date column: Employment Date 4\n",
      "2003  2006 (3 years) (Open) 8 recommendations, including \n",
      "Index:  4627  Date column: Employment Date 4\n",
      "2001  2001 (less than a year) (Open) 1 recommendation \n",
      "Index:  3677  Date column: Employment Date 5\n"
     ]
    }
   ],
   "source": [
    "for date_col in date_cols:\n",
    "    for i in range(len(data[date_col])):\n",
    "        if len(str(data[date_col][i])) > 50:\n",
    "            print(data[date_col][i], '\\nIndex: ', i, ' Date column:', date_col)"
   ]
  },
  {
   "cell_type": "code",
   "execution_count": 20,
   "metadata": {
    "collapsed": false
   },
   "outputs": [],
   "source": [
    "data['Employment Date 4'][1145] = 'September 2004  August 2006 (2 years)'\n",
    "data['Employment Date 4'][4627] = '2003  2006 (3 years)'\n",
    "data['Employment Date 5'][3677] = '2001  2001 (less than a year)'"
   ]
  },
  {
   "cell_type": "markdown",
   "metadata": {},
   "source": [
    "Now we want to delete the duration described inside the brackets. If needed, it can be calculated easily from the years given."
   ]
  },
  {
   "cell_type": "code",
   "execution_count": 21,
   "metadata": {
    "collapsed": true
   },
   "outputs": [],
   "source": [
    "for date_col in date_cols:\n",
    "    for i in range(len(data[date_col])):\n",
    "        pos = str(data[date_col][i]).find('(')\n",
    "        if pos != -1:\n",
    "            data[date_col][i] = data[date_col][i][:pos].strip()"
   ]
  },
  {
   "cell_type": "markdown",
   "metadata": {},
   "source": [
    "Change Present to November 2016 in all dates."
   ]
  },
  {
   "cell_type": "code",
   "execution_count": 22,
   "metadata": {
    "collapsed": false
   },
   "outputs": [],
   "source": [
    "for date_col in date_cols:\n",
    "    for i in range(len(data[date_col])):\n",
    "        data[date_col][i] = str(data[date_col][i]).replace('Present', 'November 2016')"
   ]
  },
  {
   "cell_type": "markdown",
   "metadata": {},
   "source": [
    "Change the dates so that they can be easily processed by computer. They must be in some standardised format.\n",
    "\n",
    "Our standardised format will be the following:\n",
    "\n",
    "MM/YY-MM/YY or YY-YY or YY-MM/YY or MM/YY-YY\n",
    "\n",
    "If there is some case when there was just one date in a cell, we repeat the date to keep the format (e.g. 2016 --> 2016-2016)."
   ]
  },
  {
   "cell_type": "code",
   "execution_count": 23,
   "metadata": {
    "collapsed": false
   },
   "outputs": [],
   "source": [
    "months_num = {'January': '1', 'February': '2', 'March': '3', 'April': '4', 'May': '5', 'June': '6', 'July': '7', 'August': '8', 'September': '9', 'October': '10', 'November': '11', 'December': '12'}\n",
    "for date_col in date_cols:\n",
    "    for i in range(len(data[date_col])):\n",
    "        if str(data[date_col][i]) != 'nan':\n",
    "            str_date = ''\n",
    "            parts = data[date_col][i].split('\\x96')\n",
    "            if len(parts) == 2:\n",
    "                p1 = parts[0].split()\n",
    "                if len(p1) == 2:\n",
    "                    str_date = months_num[p1[0]] + '/' + p1[1]\n",
    "                elif len(p1) == 1:\n",
    "                    str_date = p1[0]\n",
    "                p2 = parts[1].split()\n",
    "                str_date += '-'\n",
    "                if len(p2) == 2:\n",
    "                    str_date += months_num[p2[0]] + '/' + p2[1]\n",
    "                elif len(p2) == 1:\n",
    "                    str_date += p2[0]\n",
    "                data[date_col][i] = str_date\n",
    "            elif len(parts) == 1:\n",
    "                p1 = parts[0].split()\n",
    "                if len(p1) == 2:\n",
    "                    str_date = months_num[p1[0]] + '/' + p1[1] + '-' + months_num[p1[0]] + '/' + p1[1]\n",
    "                elif len(p1) == 1:\n",
    "                    str_date = str(int(float(p1[0]))) + '-' + str(int(float(p1[0])))\n",
    "                data[date_col][i] = str_date\n",
    "            else:\n",
    "                data[date_col][i] = np.nan\n",
    "        else:\n",
    "            data[date_col][i] = np.nan"
   ]
  },
  {
   "cell_type": "code",
   "execution_count": 24,
   "metadata": {
    "collapsed": false
   },
   "outputs": [
    {
     "data": {
      "text/html": [
       "<div>\n",
       "<table border=\"1\" class=\"dataframe\">\n",
       "  <thead>\n",
       "    <tr style=\"text-align: right;\">\n",
       "      <th></th>\n",
       "      <th>Source Url</th>\n",
       "      <th>Name</th>\n",
       "      <th>Location</th>\n",
       "      <th>Industry</th>\n",
       "      <th>University</th>\n",
       "      <th>Field Of Study</th>\n",
       "      <th>Number Of Connections</th>\n",
       "      <th>Job Title</th>\n",
       "      <th>Employer</th>\n",
       "      <th>Employment Date</th>\n",
       "      <th>...</th>\n",
       "      <th>Employment Date 41</th>\n",
       "      <th>Location 42</th>\n",
       "      <th>University 7</th>\n",
       "      <th>Field Of Study 7</th>\n",
       "      <th>University 8</th>\n",
       "      <th>Field Of Study 8</th>\n",
       "      <th>University 9</th>\n",
       "      <th>Field Of Study 9</th>\n",
       "      <th>University 10</th>\n",
       "      <th>File name</th>\n",
       "    </tr>\n",
       "  </thead>\n",
       "  <tbody>\n",
       "    <tr>\n",
       "      <th>count</th>\n",
       "      <td>5291</td>\n",
       "      <td>5291</td>\n",
       "      <td>5291</td>\n",
       "      <td>5291</td>\n",
       "      <td>4666</td>\n",
       "      <td>4311</td>\n",
       "      <td>5290</td>\n",
       "      <td>4981</td>\n",
       "      <td>4981</td>\n",
       "      <td>4477</td>\n",
       "      <td>...</td>\n",
       "      <td>1</td>\n",
       "      <td>1</td>\n",
       "      <td>49</td>\n",
       "      <td>3</td>\n",
       "      <td>8</td>\n",
       "      <td>2</td>\n",
       "      <td>15</td>\n",
       "      <td>2</td>\n",
       "      <td>3</td>\n",
       "      <td>5291</td>\n",
       "    </tr>\n",
       "    <tr>\n",
       "      <th>unique</th>\n",
       "      <td>5291</td>\n",
       "      <td>4790</td>\n",
       "      <td>491</td>\n",
       "      <td>10</td>\n",
       "      <td>883</td>\n",
       "      <td>1057</td>\n",
       "      <td>510</td>\n",
       "      <td>2554</td>\n",
       "      <td>2131</td>\n",
       "      <td>631</td>\n",
       "      <td>...</td>\n",
       "      <td>1</td>\n",
       "      <td>1</td>\n",
       "      <td>42</td>\n",
       "      <td>3</td>\n",
       "      <td>7</td>\n",
       "      <td>2</td>\n",
       "      <td>15</td>\n",
       "      <td>2</td>\n",
       "      <td>3</td>\n",
       "      <td>26</td>\n",
       "    </tr>\n",
       "    <tr>\n",
       "      <th>top</th>\n",
       "      <td>https://www.linkedin.com/profile/view?id=ADEAA...</td>\n",
       "      <td>LinkedIn Member</td>\n",
       "      <td>Waterloo, Ontario, Canada</td>\n",
       "      <td>Computer Software</td>\n",
       "      <td>University of Waterloo</td>\n",
       "      <td>Computer Science</td>\n",
       "      <td>500+</td>\n",
       "      <td>Software Engineer</td>\n",
       "      <td>RIM</td>\n",
       "      <td>6/2015-11/2016</td>\n",
       "      <td>...</td>\n",
       "      <td>7/1990-12/1994</td>\n",
       "      <td>Osaka, Japan</td>\n",
       "      <td>University of Toronto</td>\n",
       "      <td>Double Honours</td>\n",
       "      <td>McGill University</td>\n",
       "      <td>Computer Programmer</td>\n",
       "      <td>University of Illinois at Urbana-Champaign</td>\n",
       "      <td>Accounts</td>\n",
       "      <td>University of Waterloo</td>\n",
       "      <td>22.xls</td>\n",
       "    </tr>\n",
       "    <tr>\n",
       "      <th>freq</th>\n",
       "      <td>1</td>\n",
       "      <td>307</td>\n",
       "      <td>888</td>\n",
       "      <td>2440</td>\n",
       "      <td>894</td>\n",
       "      <td>1025</td>\n",
       "      <td>1037</td>\n",
       "      <td>447</td>\n",
       "      <td>483</td>\n",
       "      <td>130</td>\n",
       "      <td>...</td>\n",
       "      <td>1</td>\n",
       "      <td>1</td>\n",
       "      <td>4</td>\n",
       "      <td>1</td>\n",
       "      <td>2</td>\n",
       "      <td>1</td>\n",
       "      <td>1</td>\n",
       "      <td>1</td>\n",
       "      <td>1</td>\n",
       "      <td>700</td>\n",
       "    </tr>\n",
       "  </tbody>\n",
       "</table>\n",
       "<p>4 rows × 215 columns</p>\n",
       "</div>"
      ],
      "text/plain": [
       "                                               Source Url             Name  \\\n",
       "count                                                5291             5291   \n",
       "unique                                               5291             4790   \n",
       "top     https://www.linkedin.com/profile/view?id=ADEAA...  LinkedIn Member   \n",
       "freq                                                    1              307   \n",
       "\n",
       "                         Location           Industry              University  \\\n",
       "count                        5291               5291                    4666   \n",
       "unique                        491                 10                     883   \n",
       "top     Waterloo, Ontario, Canada  Computer Software  University of Waterloo   \n",
       "freq                          888               2440                     894   \n",
       "\n",
       "          Field Of Study Number Of Connections          Job Title Employer  \\\n",
       "count               4311                  5290               4981     4981   \n",
       "unique              1057                   510               2554     2131   \n",
       "top     Computer Science                  500+  Software Engineer      RIM   \n",
       "freq                1025                  1037                447      483   \n",
       "\n",
       "       Employment Date    ...    Employment Date 41   Location 42  \\\n",
       "count             4477    ...                     1             1   \n",
       "unique             631    ...                     1             1   \n",
       "top     6/2015-11/2016    ...        7/1990-12/1994  Osaka, Japan   \n",
       "freq               130    ...                     1             1   \n",
       "\n",
       "                 University 7 Field Of Study 7       University 8  \\\n",
       "count                      49                3                  8   \n",
       "unique                     42                3                  7   \n",
       "top     University of Toronto   Double Honours  McGill University   \n",
       "freq                        4                1                  2   \n",
       "\n",
       "           Field Of Study 8                                University 9  \\\n",
       "count                     2                                          15   \n",
       "unique                    2                                          15   \n",
       "top     Computer Programmer  University of Illinois at Urbana-Champaign   \n",
       "freq                      1                                           1   \n",
       "\n",
       "       Field Of Study 9           University 10 File name  \n",
       "count                 2                       3      5291  \n",
       "unique                2                       3        26  \n",
       "top            Accounts  University of Waterloo    22.xls  \n",
       "freq                  1                       1       700  \n",
       "\n",
       "[4 rows x 215 columns]"
      ]
     },
     "execution_count": 24,
     "metadata": {},
     "output_type": "execute_result"
    }
   ],
   "source": [
    "data.describe()"
   ]
  },
  {
   "cell_type": "markdown",
   "metadata": {},
   "source": [
    "## Standardise education background\n",
    "Create schema of education (e.g. BA / Bachelors / BSc / B.Tech) and look for way to standardise.\n",
    "\n",
    "Idea is to set the standards as Bachelor, Master, Doctorate, Other."
   ]
  },
  {
   "cell_type": "code",
   "execution_count": 25,
   "metadata": {
    "collapsed": false
   },
   "outputs": [],
   "source": [
    "degrees = ['Degree'] + ['Degree ' + str(x + 2) for x in range(10)]\n",
    "bachelor = set([])\n",
    "master = set([])\n",
    "doctorate = set([])\n",
    "other = set([])\n",
    "all_degrees = []\n",
    "for deg in degrees:\n",
    "    for i in range(len(data[deg])):\n",
    "        if str(data[deg][i]) != 'nan':\n",
    "            all_degrees.append(data[deg][i])"
   ]
  },
  {
   "cell_type": "code",
   "execution_count": 26,
   "metadata": {
    "collapsed": false
   },
   "outputs": [
    {
     "name": "stdout",
     "output_type": "stream",
     "text": [
      "Bachelor's degree                                                      171\n",
      "BS                                                                     153\n",
      "Bachelor of Applied Science (B.A.Sc.)                                  149\n",
      "Bachelor                                                               142\n",
      "MS                                                                     134\n",
      "Bachelor of Engineering (B.Eng.)                                       129\n",
      "Bachelor of Science                                                    115\n",
      "Bachelor's Degree                                                      113\n",
      "Bachelor of Engineering                                                111\n",
      "BSc                                                                    107\n",
      "Bachelor of Science (B.Sc.)                                            106\n",
      "Master's degree                                                        105\n",
      "Diploma                                                                104\n",
      "Bachelor of Computer Science                                            96\n",
      "Bachelors Degree                                                       93\n",
      "Masters                                                                 87\n",
      "Bachelor of Applied Science (BASc)                                      84\n",
      "BASc                                                                    84\n",
      "Master                                                                  82\n",
      "Master of Science                                                       76\n",
      "Bachelor of Science (BS)                                                74\n",
      "Bachelor of Applied Science                                             71\n",
      "High School                                                             70\n",
      "Master's Degree                                                         69\n",
      "Bachelor of Engineering (BEng)                                          64\n",
      "Master of Science (MS)                                                  63\n",
      "B.Sc.                                                                   62\n",
      "MSc                                                                     62\n",
      "MBA                                                                     60\n",
      "Bachelor of Science (BSc)                                               58\n",
      "                                                                      ... \n",
      "All India Senior School Certificate Examination                          1\n",
      "M. Eng.                                                                  1\n",
      "Laurea                                                                   1\n",
      "University Diploma of Technologies                                       1\n",
      "Programmer/Network Support Analyst + MCSA:Secuity                        1\n",
      "B.CMP.(HONS.) SSP COGNITIVE SCIENCE                                      1\n",
      "Bachelor of Medicine, Bachelor of Surgery (MBBS)                         1\n",
      "Certificate in IBM Mainframe System z Computing                          1\n",
      "M.A. Sc.                                                                 1\n",
      "Master of Science in Computer Science                                    1\n",
      "Quality Assurance Certificate                                            1\n",
      "Certficate                                                               1\n",
      "Chartered Director (C.Dir)                                               1\n",
      "Bachelor of Computer Science, Honours, Co-op                             1\n",
      "Honours Diploma                                                          1\n",
      "Advanced Technology Diploma (Engineering Bridge)                         1\n",
      "Candidate Certified Quality Technologist                                 1\n",
      "Bachelor in Business and Information Technology                          1\n",
      "ITCT                                                                     1\n",
      "Systems Management and Networking                                        1\n",
      "D.J.Sanghvi College (B.E)                                                1\n",
      "Bachelor of Science - BS                                                 1\n",
      "B. Eng. Sc.                                                              1\n",
      "for Bachelors of Applied Science, Honours                                1\n",
      "Electronics and Communications Engineering                               1\n",
      "Ph.D., Systems Design Engineering                                        1\n",
      "Bachelor of Science (Hons.)                                              1\n",
      "BCIS                                                                     1\n",
      "Bachelor of Science (BS) Honours                                         1\n",
      "Bachelor of Computer Science (Honours) with Business Option (Co-op)      1\n",
      "dtype: int64\n"
     ]
    }
   ],
   "source": [
    "print(pd.Series(all_degrees).value_counts())"
   ]
  },
  {
   "cell_type": "markdown",
   "metadata": {},
   "source": [
    "Heuristics to decide on the type of a degree based on its name - we create a set of the names, but we do it intelligently.\n",
    "\n",
    "We iterate over the conditions manually, and we improve them to include the items we want there based on what it tells us is there - the conditions are quite clear from the code."
   ]
  },
  {
   "cell_type": "code",
   "execution_count": 27,
   "metadata": {
    "collapsed": false
   },
   "outputs": [],
   "source": [
    "for deg in all_degrees:\n",
    "    if 'ph.' in deg.lower() or 'phd' in deg.lower() or 'phil' in deg.lower() or 'ph ' in deg.lower() or 'doctorate' in deg.lower():\n",
    "        doctorate.add(deg)\n",
    "    elif 'mast' in deg.lower() or 'master' in deg.lower() or 'MS' in deg or 'M ' in deg or 'MA' in deg or 'meng' in deg.lower() or 'M.' in deg or 'mba' in deg.lower() or 'mmath' in deg.lower() or  'minf' in deg.lower() or 'mphys' in deg.lower() or'postgrad' in deg.lower():\n",
    "        master.add(deg)\n",
    "    elif 'bach' in deg.lower() or 'bachelor' in deg.lower() or 'beng' in deg.lower() or 'bsc' in deg.lower() or 'bmath' in deg.lower() or 'B ' in deg or 'BA' in deg or 'b.' in deg.lower() or 'ba.' in deg.lower() or 'bs' in deg.lower() or 'bc' in deg.lower() or 'undergrad' in deg.lower():\n",
    "        bachelor.add(deg)\n",
    "    else:\n",
    "        other.add(deg)"
   ]
  },
  {
   "cell_type": "markdown",
   "metadata": {},
   "source": [
    "We want to rename all of the qualifications so that we can work more easily with them."
   ]
  },
  {
   "cell_type": "code",
   "execution_count": 28,
   "metadata": {
    "collapsed": true
   },
   "outputs": [],
   "source": [
    "for deg in degrees:\n",
    "    for i in range(len(data[deg])):\n",
    "        if str(data[deg][i]) != 'nan':\n",
    "            if str(data[deg][i]) in doctorate:\n",
    "                data[deg][i] = 'Doctorate'\n",
    "            elif str(data[deg][i]) in master:\n",
    "                data[deg][i] = 'Master'\n",
    "            elif str(data[deg][i]) in bachelor:\n",
    "                data[deg][i] = 'Bachelor'\n",
    "            elif str(data[deg][i]) in other:\n",
    "                data[deg][i] = 'Other'\n",
    "            else:\n",
    "                data[deg][i] = np.nan"
   ]
  },
  {
   "cell_type": "code",
   "execution_count": 29,
   "metadata": {
    "collapsed": true
   },
   "outputs": [],
   "source": [
    "data.to_csv('linkedin_all.csv', index=False)"
   ]
  },
  {
   "cell_type": "markdown",
   "metadata": {
    "collapsed": true
   },
   "source": [
    "## Find way to systematically identify people who have worked in Waterloo AND worked for RIM\n",
    "\n",
    "'Waterloo, Ontario, Canada' is the location, and 'RIM' is the employer. This should be for a corresponding time period, so the people should have worked in Waterloo and at the same time for RIM (not at different times). So we get only people who have worked at RIM while being in Waterloo.\n",
    "\n",
    "Employer N, Location N correspond to the same job at given time (also checked manually on LinkedIn). These should be Employer N = 'RIM' Location N = 'Waterloo, Ontario, Canada' for at least one N so that we can accept such person.\n",
    "\n",
    "Create a separate csv file with only these people."
   ]
  },
  {
   "cell_type": "code",
   "execution_count": 30,
   "metadata": {
    "collapsed": false,
    "scrolled": true
   },
   "outputs": [],
   "source": [
    "rows = []\n",
    "loc_empl = [('Location', 'Employer')] + [('Location ' + str(x + 2), 'Employer ' + str(x + 2))  for x in range(41)]\n",
    "for i in range(len(data)):\n",
    "    for e in loc_empl:\n",
    "        if data.iloc[i][e[0]] == 'Waterloo, Ontario, Canada' and data.iloc[i][e[1]] == 'RIM':\n",
    "            rows.append(i)\n",
    "            break\n",
    "data_rim_w = data.iloc[rows,:]"
   ]
  },
  {
   "cell_type": "code",
   "execution_count": 31,
   "metadata": {
    "collapsed": false
   },
   "outputs": [
    {
     "name": "stdout",
     "output_type": "stream",
     "text": [
      "Number of suitable people:  1115\n"
     ]
    }
   ],
   "source": [
    "print('Number of suitable people: ', len(rows))"
   ]
  },
  {
   "cell_type": "markdown",
   "metadata": {},
   "source": [
    "We have 1115 people who worked at RIM while being in Waterloo! This is quite a good sample (about 1/5 of all people from the files are suitable for the research)."
   ]
  },
  {
   "cell_type": "code",
   "execution_count": 32,
   "metadata": {
    "collapsed": true
   },
   "outputs": [],
   "source": [
    "data_rim_w.to_csv('linkedin_rim_waterloo.csv', index=False)"
   ]
  },
  {
   "cell_type": "markdown",
   "metadata": {},
   "source": [
    "## Identify point where they stopped working for RIM pre- and post- 2008 and extract their subsequent jobs and locations\n",
    "Since still quite many of them are still working for RIM, we will use 3 categories - present ('finished' working in 11/2016 = present), pre-2008 (< 2009), post-2008 (> 2008). We will include a new column for this named 'Stopped Working'. We are interested only in the latest employment with RIM for a given person. In some cases it may happen that they did not give the dates for the employment, so we leave it blank in such case.\n",
    "\n",
    "As for extracting the subsequent jobs and locations, we keep them as a list of tuples for each person, the list contains details about each of the subsequent jobs and locations (the latest jobs are the first), and each tuple has the following structure: ('Location', 'Employer', 'Job Title', 'Employment Date'). These are stored directly as a list inside the dataframe - it should be easy to get the meaning from there, and it is very easy to work with it directly here."
   ]
  },
  {
   "cell_type": "code",
   "execution_count": 33,
   "metadata": {
    "collapsed": true
   },
   "outputs": [],
   "source": [
    "data_rim_w = pd.read_csv('linkedin_rim_waterloo.csv', encoding = \"ISO-8859-1\")"
   ]
  },
  {
   "cell_type": "code",
   "execution_count": 34,
   "metadata": {
    "collapsed": false
   },
   "outputs": [],
   "source": [
    "# we will include only employers until employer 41 because we have the dates only until Employment Date 41\n",
    "stopped_working = []\n",
    "loc_empl_job_date = [('Location', 'Employer', 'Job Title', 'Employment Date')] + [('Location ' + str(x + 2), 'Employer ' + str(x + 2), 'Job Title ' + str(x + 2), 'Employment Date ' + str(x + 2))  for x in range(40)]\n",
    "subseq_jobs_loc = []\n",
    "for i in range(len(data_rim_w)):\n",
    "    jobs_loc = []\n",
    "    for e in loc_empl_job_date:\n",
    "        if data_rim_w.iloc[i][e[0]] == 'Waterloo, Ontario, Canada' and data_rim_w.iloc[i][e[1]] == 'RIM':\n",
    "            if str(data_rim_w.iloc[i][e[3]]) != 'nan':\n",
    "                if data_rim_w.iloc[i][e[3]].split('-')[1] == '11/2016':\n",
    "                    stopped_working.append('present')\n",
    "                elif int(data_rim_w.iloc[i][e[3]].split('-')[1][-4:]) > 2008:\n",
    "                    stopped_working.append('post-2008')\n",
    "                else:\n",
    "                    stopped_working.append('pre-2008')\n",
    "            else:\n",
    "                stopped_working.append(np.nan)\n",
    "            break\n",
    "        jobs_loc.append((data_rim_w.iloc[i][e[0]], data_rim_w.iloc[i][e[1]], data_rim_w.iloc[i][e[2]], data_rim_w.iloc[i][e[3]]))\n",
    "    subseq_jobs_loc.append(jobs_loc)"
   ]
  },
  {
   "cell_type": "code",
   "execution_count": 35,
   "metadata": {
    "collapsed": false
   },
   "outputs": [
    {
     "data": {
      "text/plain": [
       "1115"
      ]
     },
     "execution_count": 35,
     "metadata": {},
     "output_type": "execute_result"
    }
   ],
   "source": [
    "len(subseq_jobs_loc)"
   ]
  },
  {
   "cell_type": "code",
   "execution_count": 42,
   "metadata": {
    "collapsed": false
   },
   "outputs": [
    {
     "data": {
      "text/plain": [
       "[[('San Francisco Bay Area',\n",
       "   'WhatsApp Inc.',\n",
       "   'Software Engineering Coop',\n",
       "   '9/2015-11/2016'),\n",
       "  ('Mountain View, CA',\n",
       "   'Amazon Web Services',\n",
       "   'Software Engineering Intern',\n",
       "   '5/2014-8/2014'),\n",
       "  ('Cambridge, MA', 'Oracle', 'Software Developer', '9/2013-12/2013')],\n",
       " [('Vancouver, British Columbia, Canada',\n",
       "   'Audible, Inc.',\n",
       "   'Software Development Engineer Intern',\n",
       "   '8/2015-11/2016'),\n",
       "  ('United States',\n",
       "   'SAP',\n",
       "   'Software Development Engineer Intern',\n",
       "   '1/2014-12/2014'),\n",
       "  ('Waterloo, Ontario, Canada',\n",
       "   'D2L',\n",
       "   'Software Development Engineer Intern',\n",
       "   '5/2013-8/2013')],\n",
       " [('Waterloo, Ontario, Canada',\n",
       "   'IBM Canada',\n",
       "   'Compiler Optimization - Software Developer',\n",
       "   '9/2015-11/2016'),\n",
       "  ('Markham, Ontario', 'IBM Canada', 'Software Developer', '9/2014-12/2014'),\n",
       "  ('Ottawa, Canada Area', 'TELUS', 'Software Developer', '1/2014-4/2014'),\n",
       "  ('Toronto, ON',\n",
       "   'Informatica',\n",
       "   'Software Engineering Intern',\n",
       "   '5/2013-8/2013'),\n",
       "  ('Toronto, ON', 'RIM', 'Wireless Protocol Tester', '9/2012-12/2012')]]"
      ]
     },
     "execution_count": 42,
     "metadata": {},
     "output_type": "execute_result"
    }
   ],
   "source": [
    "subseq_jobs_loc[:3]"
   ]
  },
  {
   "cell_type": "code",
   "execution_count": 37,
   "metadata": {
    "collapsed": false
   },
   "outputs": [
    {
     "data": {
      "text/plain": [
       "post-2008    633\n",
       "pre-2008     164\n",
       "present      134\n",
       "dtype: int64"
      ]
     },
     "execution_count": 37,
     "metadata": {},
     "output_type": "execute_result"
    }
   ],
   "source": [
    "pd.Series(stopped_working).value_counts()"
   ]
  },
  {
   "cell_type": "code",
   "execution_count": 38,
   "metadata": {
    "collapsed": false
   },
   "outputs": [],
   "source": [
    "data_rim_w['Stopped Working'] = stopped_working\n",
    "data_rim_w['Subsequent Jobs and Locations'] = subseq_jobs_loc"
   ]
  },
  {
   "cell_type": "code",
   "execution_count": 39,
   "metadata": {
    "collapsed": false
   },
   "outputs": [
    {
     "data": {
      "text/html": [
       "<div>\n",
       "<table border=\"1\" class=\"dataframe\">\n",
       "  <thead>\n",
       "    <tr style=\"text-align: right;\">\n",
       "      <th></th>\n",
       "      <th>Source Url</th>\n",
       "      <th>Name</th>\n",
       "      <th>Location</th>\n",
       "      <th>Industry</th>\n",
       "      <th>University</th>\n",
       "      <th>Field Of Study</th>\n",
       "      <th>Number Of Connections</th>\n",
       "      <th>Job Title</th>\n",
       "      <th>Employer</th>\n",
       "      <th>Employment Date</th>\n",
       "      <th>...</th>\n",
       "      <th>University 7</th>\n",
       "      <th>Field Of Study 7</th>\n",
       "      <th>University 8</th>\n",
       "      <th>Field Of Study 8</th>\n",
       "      <th>University 9</th>\n",
       "      <th>Field Of Study 9</th>\n",
       "      <th>University 10</th>\n",
       "      <th>File name</th>\n",
       "      <th>Stopped Working</th>\n",
       "      <th>Subsequent Jobs and Locations</th>\n",
       "    </tr>\n",
       "  </thead>\n",
       "  <tbody>\n",
       "    <tr>\n",
       "      <th>0</th>\n",
       "      <td>https://www.linkedin.com/profile/view?id=ADEAA...</td>\n",
       "      <td>Aaron Patel</td>\n",
       "      <td>San Francisco Bay Area</td>\n",
       "      <td>Computer Software</td>\n",
       "      <td>University of Waterloo</td>\n",
       "      <td>Computer Software Engineering</td>\n",
       "      <td>203</td>\n",
       "      <td>Software Engineering Coop</td>\n",
       "      <td>WhatsApp Inc.</td>\n",
       "      <td>9/2015-11/2016</td>\n",
       "      <td>...</td>\n",
       "      <td>NaN</td>\n",
       "      <td>NaN</td>\n",
       "      <td>NaN</td>\n",
       "      <td>NaN</td>\n",
       "      <td>NaN</td>\n",
       "      <td>NaN</td>\n",
       "      <td>NaN</td>\n",
       "      <td>10.xls</td>\n",
       "      <td>post-2008</td>\n",
       "      <td>[(San Francisco Bay Area, WhatsApp Inc., Softw...</td>\n",
       "    </tr>\n",
       "    <tr>\n",
       "      <th>1</th>\n",
       "      <td>https://www.linkedin.com/profile/view?id=ADEAA...</td>\n",
       "      <td>Jimmy Fu</td>\n",
       "      <td>Vancouver, British Columbia, Canada</td>\n",
       "      <td>Computer Software</td>\n",
       "      <td>University of Waterloo</td>\n",
       "      <td>Computer Engineering</td>\n",
       "      <td>500+</td>\n",
       "      <td>Software Development Engineer Intern</td>\n",
       "      <td>Audible, Inc.</td>\n",
       "      <td>8/2015-11/2016</td>\n",
       "      <td>...</td>\n",
       "      <td>NaN</td>\n",
       "      <td>NaN</td>\n",
       "      <td>NaN</td>\n",
       "      <td>NaN</td>\n",
       "      <td>NaN</td>\n",
       "      <td>NaN</td>\n",
       "      <td>NaN</td>\n",
       "      <td>10.xls</td>\n",
       "      <td>post-2008</td>\n",
       "      <td>[(Vancouver, British Columbia, Canada, Audible...</td>\n",
       "    </tr>\n",
       "    <tr>\n",
       "      <th>2</th>\n",
       "      <td>https://www.linkedin.com/profile/view?id=ADEAA...</td>\n",
       "      <td>Saad Zaman</td>\n",
       "      <td>Waterloo, Ontario, Canada</td>\n",
       "      <td>Computer Software</td>\n",
       "      <td>NaN</td>\n",
       "      <td>Honours Computer Engineering</td>\n",
       "      <td>500+</td>\n",
       "      <td>Compiler Optimization - Software Developer</td>\n",
       "      <td>IBM Canada</td>\n",
       "      <td>9/2015-11/2016</td>\n",
       "      <td>...</td>\n",
       "      <td>NaN</td>\n",
       "      <td>NaN</td>\n",
       "      <td>NaN</td>\n",
       "      <td>NaN</td>\n",
       "      <td>NaN</td>\n",
       "      <td>NaN</td>\n",
       "      <td>NaN</td>\n",
       "      <td>10.xls</td>\n",
       "      <td>post-2008</td>\n",
       "      <td>[(Waterloo, Ontario, Canada, IBM Canada, Compi...</td>\n",
       "    </tr>\n",
       "    <tr>\n",
       "      <th>3</th>\n",
       "      <td>https://www.linkedin.com/profile/view?id=ADEAA...</td>\n",
       "      <td>Whitney Mak</td>\n",
       "      <td>Richmond Hill, Ontario, Canada</td>\n",
       "      <td>Computer Software</td>\n",
       "      <td>University of Waterloo</td>\n",
       "      <td>Honours Computer Engineering with Management S...</td>\n",
       "      <td>147</td>\n",
       "      <td>Software Engineer</td>\n",
       "      <td>Zynga Toronto</td>\n",
       "      <td>9/2011-12/2011</td>\n",
       "      <td>...</td>\n",
       "      <td>NaN</td>\n",
       "      <td>NaN</td>\n",
       "      <td>NaN</td>\n",
       "      <td>NaN</td>\n",
       "      <td>NaN</td>\n",
       "      <td>NaN</td>\n",
       "      <td>NaN</td>\n",
       "      <td>10.xls</td>\n",
       "      <td>post-2008</td>\n",
       "      <td>[(Richmond Hill, Ontario, Canada, Zynga Toront...</td>\n",
       "    </tr>\n",
       "    <tr>\n",
       "      <th>4</th>\n",
       "      <td>https://www.linkedin.com/profile/view?id=ADEAA...</td>\n",
       "      <td>Fikayo Odunayo</td>\n",
       "      <td>Hamilton, Ontario, Canada</td>\n",
       "      <td>Computer Software</td>\n",
       "      <td>University of Waterloo</td>\n",
       "      <td>Computer Engineering</td>\n",
       "      <td>259</td>\n",
       "      <td>Software Developer</td>\n",
       "      <td>Microsoft</td>\n",
       "      <td>1/2014-4/2014</td>\n",
       "      <td>...</td>\n",
       "      <td>NaN</td>\n",
       "      <td>NaN</td>\n",
       "      <td>NaN</td>\n",
       "      <td>NaN</td>\n",
       "      <td>NaN</td>\n",
       "      <td>NaN</td>\n",
       "      <td>NaN</td>\n",
       "      <td>10.xls</td>\n",
       "      <td>NaN</td>\n",
       "      <td>[(Hamilton, Ontario, Canada, Microsoft, Softwa...</td>\n",
       "    </tr>\n",
       "  </tbody>\n",
       "</table>\n",
       "<p>5 rows × 217 columns</p>\n",
       "</div>"
      ],
      "text/plain": [
       "                                          Source Url            Name  \\\n",
       "0  https://www.linkedin.com/profile/view?id=ADEAA...     Aaron Patel   \n",
       "1  https://www.linkedin.com/profile/view?id=ADEAA...        Jimmy Fu   \n",
       "2  https://www.linkedin.com/profile/view?id=ADEAA...      Saad Zaman   \n",
       "3  https://www.linkedin.com/profile/view?id=ADEAA...     Whitney Mak   \n",
       "4  https://www.linkedin.com/profile/view?id=ADEAA...  Fikayo Odunayo   \n",
       "\n",
       "                              Location           Industry  \\\n",
       "0               San Francisco Bay Area  Computer Software   \n",
       "1  Vancouver, British Columbia, Canada  Computer Software   \n",
       "2            Waterloo, Ontario, Canada  Computer Software   \n",
       "3       Richmond Hill, Ontario, Canada  Computer Software   \n",
       "4            Hamilton, Ontario, Canada  Computer Software   \n",
       "\n",
       "               University                                     Field Of Study  \\\n",
       "0  University of Waterloo                      Computer Software Engineering   \n",
       "1  University of Waterloo                               Computer Engineering   \n",
       "2                     NaN                       Honours Computer Engineering   \n",
       "3  University of Waterloo  Honours Computer Engineering with Management S...   \n",
       "4  University of Waterloo                               Computer Engineering   \n",
       "\n",
       "  Number Of Connections                                   Job Title  \\\n",
       "0                   203                   Software Engineering Coop   \n",
       "1                  500+        Software Development Engineer Intern   \n",
       "2                  500+  Compiler Optimization - Software Developer   \n",
       "3                   147                           Software Engineer   \n",
       "4                   259                          Software Developer   \n",
       "\n",
       "        Employer Employment Date  \\\n",
       "0  WhatsApp Inc.  9/2015-11/2016   \n",
       "1  Audible, Inc.  8/2015-11/2016   \n",
       "2     IBM Canada  9/2015-11/2016   \n",
       "3  Zynga Toronto  9/2011-12/2011   \n",
       "4      Microsoft   1/2014-4/2014   \n",
       "\n",
       "                         ...                         University 7  \\\n",
       "0                        ...                                  NaN   \n",
       "1                        ...                                  NaN   \n",
       "2                        ...                                  NaN   \n",
       "3                        ...                                  NaN   \n",
       "4                        ...                                  NaN   \n",
       "\n",
       "  Field Of Study 7 University 8 Field Of Study 8 University 9  \\\n",
       "0              NaN          NaN              NaN          NaN   \n",
       "1              NaN          NaN              NaN          NaN   \n",
       "2              NaN          NaN              NaN          NaN   \n",
       "3              NaN          NaN              NaN          NaN   \n",
       "4              NaN          NaN              NaN          NaN   \n",
       "\n",
       "  Field Of Study 9 University 10 File name Stopped Working  \\\n",
       "0              NaN           NaN    10.xls       post-2008   \n",
       "1              NaN           NaN    10.xls       post-2008   \n",
       "2              NaN           NaN    10.xls       post-2008   \n",
       "3              NaN           NaN    10.xls       post-2008   \n",
       "4              NaN           NaN    10.xls             NaN   \n",
       "\n",
       "                       Subsequent Jobs and Locations  \n",
       "0  [(San Francisco Bay Area, WhatsApp Inc., Softw...  \n",
       "1  [(Vancouver, British Columbia, Canada, Audible...  \n",
       "2  [(Waterloo, Ontario, Canada, IBM Canada, Compi...  \n",
       "3  [(Richmond Hill, Ontario, Canada, Zynga Toront...  \n",
       "4  [(Hamilton, Ontario, Canada, Microsoft, Softwa...  \n",
       "\n",
       "[5 rows x 217 columns]"
      ]
     },
     "execution_count": 39,
     "metadata": {},
     "output_type": "execute_result"
    }
   ],
   "source": [
    "data_rim_w.head()"
   ]
  },
  {
   "cell_type": "code",
   "execution_count": 40,
   "metadata": {
    "collapsed": false
   },
   "outputs": [],
   "source": [
    "data_rim_w.to_csv('linkedin_rim_waterloo.csv', index=False)"
   ]
  }
 ],
 "metadata": {
  "anaconda-cloud": {},
  "kernelspec": {
   "display_name": "Python [conda env:blackberry]",
   "language": "python",
   "name": "conda-env-blackberry-py"
  },
  "language_info": {
   "codemirror_mode": {
    "name": "ipython",
    "version": 3
   },
   "file_extension": ".py",
   "mimetype": "text/x-python",
   "name": "python",
   "nbconvert_exporter": "python",
   "pygments_lexer": "ipython3",
   "version": "3.5.2"
  }
 },
 "nbformat": 4,
 "nbformat_minor": 1
}
